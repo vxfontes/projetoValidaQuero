{
 "cells": [
  {
   "cell_type": "code",
   "execution_count": 8,
   "metadata": {},
   "outputs": [],
   "source": [
    "# importação\n",
    "from selenium.webdriver.chrome.service import Service\n",
    "from selenium import webdriver\n",
    "from selenium.webdriver.common.by import By\n",
    "from time import sleep\n",
    "import random\n",
    "import faker\n",
    "import pandas as pd\n",
    "from datetime import datetime, timedelta\n",
    "import json"
   ]
  },
  {
   "cell_type": "code",
   "execution_count": 3,
   "metadata": {},
   "outputs": [],
   "source": [
    "path_chromedriver = \"C:/Users/980193/Desktop/projetoValidaQuero/python/automacao/config/chromedriver.exe\"\n",
    "# driver = webdriver.Chrome(service=Service(path_chromedriver))"
   ]
  },
  {
   "cell_type": "code",
   "execution_count": 2,
   "metadata": {},
   "outputs": [],
   "source": [
    "fake = faker.Faker('pt_BR')"
   ]
  },
  {
   "cell_type": "markdown",
   "metadata": {},
   "source": [
    "### Gerando usuarios"
   ]
  },
  {
   "cell_type": "code",
   "execution_count": null,
   "metadata": {},
   "outputs": [],
   "source": [
    "df = pd.DataFrame(columns=['Nome', 'Matricula', 'Perfil', 'Senha'])\n",
    "\n",
    "for i in range(50):\n",
    "    nome = fake.name()\n",
    "    matricula = i * 1000 + i\n",
    "    perfil = random.choice(['Gerente', 'Gestor', 'Time'])\n",
    "    senha = fake.password()\n",
    "    df.loc[i] = [nome, matricula, perfil, senha]\n",
    "\n",
    "# df.to_csv('usuarios.csv', index=False)"
   ]
  },
  {
   "cell_type": "code",
   "execution_count": null,
   "metadata": {},
   "outputs": [],
   "source": [
    "df = pd.read_csv('C:/Users/980193/Desktop/projetoValidaQuero/python/automacao/files/usuarios.csv')\n",
    "\n",
    "for user in df.iloc:\n",
    "    driver.get('http://127.0.0.1:5173/cadastro')\n",
    "    sleep(1)\n",
    "\n",
    "    input_nome = driver.find_element(By.XPATH, '//*[@id=\":r0:\"]')\n",
    "    input_matricula = driver.find_element(By.XPATH, '//*[@id=\":r1:\"]')\n",
    "    input_perfil = driver.find_element(By.XPATH, '//*[@id=\"root\"]/div/main/div/div/form/div/div[3]/div/div/div')\n",
    "    input_senha = driver.find_element(By.XPATH, '//*[@id=\":r3:\"]')\n",
    "    input_senha2 = driver.find_element(By.XPATH, '//*[@id=\":r4:\"]')\n",
    "    button = driver.find_element(By.XPATH, '//*[@id=\"root\"]/div/main/div/div/form/div/button')\n",
    "\n",
    "    input_nome.send_keys(user['Nome'])\n",
    "    input_matricula.send_keys(str(user['Matricula']))\n",
    "    input_senha.send_keys(user['Senha'])\n",
    "    input_senha2.send_keys(user['Senha'])\n",
    "    input_perfil.click()\n",
    "\n",
    "    sleep(1)\n",
    "\n",
    "    if(user['Perfil'] == 'Time'):\n",
    "        time = driver.find_element(By.XPATH, '//*[@id=\"menu-perfil\"]/div[3]/ul/li[1]')\n",
    "        time.click()\n",
    "    \n",
    "    if(user['Perfil'] == 'Gerente'):\n",
    "        gerente = driver.find_element(By.XPATH, '//*[@id=\"menu-perfil\"]/div[3]/ul/li[2]')\n",
    "        gerente.click()\n",
    "    \n",
    "    if(user['Perfil'] == 'Gestor'):\n",
    "        gestor = driver.find_element(By.XPATH, '//*[@id=\"menu-perfil\"]/div[3]/ul/li[3]')\n",
    "        gestor.click()\n",
    "\n",
    "    sleep(1)\n",
    "    button.click()"
   ]
  },
  {
   "cell_type": "markdown",
   "metadata": {},
   "source": [
    "### Gerando templates"
   ]
  },
  {
   "cell_type": "code",
   "execution_count": 5,
   "metadata": {},
   "outputs": [],
   "source": [
    "# -*- coding: utf-8 -*-\n",
    "\n",
    "titulo = []\n",
    "campos = []\n",
    "templateTipo = ['Template', 'Relatório', 'Arquivos']\n",
    "tipos = ['int64', 'bool', 'object', 'float']\n",
    "status = ['Ativo', 'Pendente', 'Desativado']\n",
    "usuarios = [\"7007\",\"8008\",\"1001\",\"11011\",\"120\",\"13013\",\"14014\",\"15015\",\"16016\",\"17017\",\"18018\",\"20020\",\"9009\",\"48048\",\"39039\",\"4004\",\"25025\",\"32032\",\"34034\",\"44044\",\"24024\",\"38038\",\"40040\",\"27027\",\"31031\",\"45045\",\"26026\",\"47047\"]\n",
    "\n",
    "with open('C:/Users/980193/Desktop/projetoValidaQuero/python/automacao/files/titulo.txt', 'r', encoding='utf-8') as value:\n",
    "    dados = value.read()\n",
    "    titulo = dados.split(',')\n",
    "\n",
    "with open('C:/Users/980193/Desktop/projetoValidaQuero/python/automacao/files/campos.txt', 'r', encoding='utf-8') as value:\n",
    "    dados = value.read()\n",
    "    campos = dados.split(',')"
   ]
  },
  {
   "cell_type": "code",
   "execution_count": null,
   "metadata": {},
   "outputs": [],
   "source": [
    "def gerarCampos(number):\n",
    "    getCampos = []\n",
    "    for _ in range(0, number):\n",
    "        getCampos.append({\n",
    "            \"nome\": fake.word(ext_word_list=campos),\n",
    "            \"tipo\": fake.word(ext_word_list=tipos),\n",
    "            \"nulo\": random.choice([True, False])\n",
    "        })\n",
    "    return getCampos"
   ]
  },
  {
   "cell_type": "code",
   "execution_count": null,
   "metadata": {},
   "outputs": [],
   "source": [
    "num_jsons = 200\n",
    "templates = []\n",
    "for _ in range(num_jsons):\n",
    "    template = {\n",
    "        \"titulo\": fake.word(ext_word_list=templateTipo) + ' de ' + fake.word(ext_word_list=titulo),\n",
    "        \"descricao\": fake.text(max_nb_chars=1200),\n",
    "        \"status\": fake.word(ext_word_list=status),\n",
    "        \"campos\": gerarCampos(random.randint(2, 5)),\n",
    "        \"formato\": random.randint(1, 3),\n",
    "        \"usuario\": fake.word(ext_word_list=usuarios),\n",
    "    }\n",
    "    templates.append(template)\n",
    "\n",
    "\n",
    "with open('C:/Users/980193/Desktop/projetoValidaQuero/python/automacao/files/templates.json', 'w') as file:\n",
    "    json.dump(templates, file, indent=4)"
   ]
  },
  {
   "cell_type": "markdown",
   "metadata": {},
   "source": [
    "### Gerando arquivos"
   ]
  },
  {
   "cell_type": "code",
   "execution_count": 9,
   "metadata": {},
   "outputs": [],
   "source": [
    "templates = [2,3,5,8,10,11,12,13,17,18,19,21,22,23,24,25,26,27,28,29,32,33,34,35,36,38,39,40,41,42,43,44,45,47,48,49,52,54,55,56,57,58,61,62,63,64,71,72,74,75,76,77,79,80,81,82,83,87,88,89,92,93,94,95,96,97,98,100,101,102,104,105,107,109,111,113,114,116,117,119,121,122,123,125,126,127,128,129,130,131,132,134,136,139,141,142,143,144,145,146,148,151,152,154,155,156,157,158,159,161,163,164,166,168,169,172,173,175,176,177,178,179,180,183,184,185,186,187,190,191,193,196,197,198,200,1]\n",
    "usuarios = [\"7007\",\"8008\",\"23023\",\"1001\",\"10010\",\"120\",\"12012\",\"14014\",\"15015\",\"16016\",\"17017\",\"19019\",\"2002\",\"20020\",\"21021\",\"22022\",\"3003\",\"9009\",\"48048\",\"4004\",\"32032\",\"34034\",\"5005\",\"38038\",\"42042\",\"28028\",\"29029\",\"35035\",\"27027\",\"36036\",\"31031\",\"980192\"]\n",
    "\n",
    "num_jsons = 800\n",
    "arquivos = []\n",
    "for _ in range(num_jsons):\n",
    "    aproved = random.choice([True, False])\n",
    "    url = ''\n",
    "    if(aproved == True):\n",
    "        url = 'http://google.com'\n",
    "\n",
    "    arquivo = {\n",
    "        \"titulo\": fake.word(ext_word_list=titulo) + ' ' + fake.word(ext_word_list=titulo),\n",
    "        \"linhas\": random.randint(10,100),\n",
    "        \"aprovado\": aproved,\n",
    "        \"url\": url,\n",
    "        \"usuario\": fake.word(ext_word_list=usuarios),\n",
    "        \"template\": random.choice(templates),\n",
    "        \"publico\": random.choice([True, False])\n",
    "    }\n",
    "    arquivos.append(arquivo)\n",
    "\n",
    "with open('C:/Users/980193/Desktop/projetoValidaQuero/python/automacao/files/arquivos.json', 'w') as file:\n",
    "    json.dump(arquivos, file, indent=4)"
   ]
  },
  {
   "cell_type": "markdown",
   "metadata": {},
   "source": [
    "### Gerar dados para preencher alguns arquivos"
   ]
  },
  {
   "cell_type": "code",
   "execution_count": 3,
   "metadata": {},
   "outputs": [],
   "source": [
    "quantidade = 1000\n",
    "floats = [random.uniform(0.01, 0.99) for _ in range(quantidade)]\n",
    "inteiros = [random.randint(1, 10000) for _ in range(quantidade)]\n",
    "booleans = [random.choice([True, False]) for _ in range(quantidade)]\n",
    "strings = [fake.word() for _ in range(quantidade)]\n",
    "\n",
    "formatos_datas = ['%d/%m/%Y', '%Y-%m-%d', '%d-%m-%Y', '%Y-%m-%d %H:%m']  # Adicione os formatos desejados aqui\n",
    "dates = []\n",
    "\n",
    "for _ in range(quantidade):\n",
    "    data_aleatoria = datetime.now() - timedelta(days=random.randint(1, 365))\n",
    "    formato_aleatorio = random.choice(formatos_datas)\n",
    "    data_formatada = data_aleatoria.strftime(formato_aleatorio)\n",
    "    dates.append(data_formatada)"
   ]
  },
  {
   "cell_type": "code",
   "execution_count": 4,
   "metadata": {},
   "outputs": [],
   "source": [
    "# coloque aqui o nome das colunas\n",
    "data = {\n",
    "    'descricao_titulo': strings,\n",
    "    'mercadoria_empresa': booleans,\n",
    "    'quantidade_org': inteiros,\n",
    "    'custo': floats,\n",
    "    'data': dates,\n",
    "}\n",
    "\n",
    "df = pd.DataFrame(data)\n",
    "# exportar para csv\n",
    "df.to_csv('dados.csv', index=False)\n",
    "# exportar para excel\n",
    "# df.to_excel('dados.xlsx', index=False)"
   ]
  }
 ],
 "metadata": {
  "kernelspec": {
   "display_name": "Python 3",
   "language": "python",
   "name": "python3"
  },
  "language_info": {
   "codemirror_mode": {
    "name": "ipython",
    "version": 3
   },
   "file_extension": ".py",
   "mimetype": "text/x-python",
   "name": "python",
   "nbconvert_exporter": "python",
   "pygments_lexer": "ipython3",
   "version": "3.7.9"
  },
  "orig_nbformat": 4
 },
 "nbformat": 4,
 "nbformat_minor": 2
}
