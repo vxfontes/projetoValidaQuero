{
 "cells": [
  {
   "cell_type": "markdown",
   "metadata": {},
   "source": [
    "Testando validação com um template específico"
   ]
  },
  {
   "cell_type": "code",
   "execution_count": 31,
   "metadata": {},
   "outputs": [],
   "source": [
    "import pandas as pd"
   ]
  },
  {
   "cell_type": "code",
   "execution_count": 32,
   "metadata": {},
   "outputs": [],
   "source": [
    "# campos de teste\n",
    "campos = [\n",
    "    {\"nome\": \"servico_preco\", \"nulo\": True, \"tipo\": \"float\"}, \n",
    "    {\"nome\": \"mercadoria_preco\", \"nulo\": False, \"tipo\": \"int64\"}, \n",
    "    {\"nome\": \"produto_empresa\", \"nulo\": False, \"tipo\": \"float\"}, \n",
    "    {\"nome\": \"mercadoria_empresa\", \"nulo\": True, \"tipo\": \"int64\"}, \n",
    "    {\"nome\": \"item_titulo\", \"nulo\": False, \"tipo\": \"bool\"}\n",
    "]"
   ]
  },
  {
   "cell_type": "code",
   "execution_count": 33,
   "metadata": {},
   "outputs": [
    {
     "name": "stdout",
     "output_type": "stream",
     "text": [
      "{'item_titulo', 'servico_preco', 'produto_empresa', 'mercadoria_preco', 'mercadoria_empresa'}\n",
      "{'item_titulo', 'servico_preco', 'produto_empresa', 'mercadoria_preco', 'mercadoria_empresa'}\n"
     ]
    }
   ],
   "source": [
    "# importando arquivo que vai ser testado com base nos campos\n",
    "df = pd.read_csv('file.csv')\n",
    "print(set(df.columns))\n",
    "print(set(campo['nome'] for campo in campos))"
   ]
  },
  {
   "cell_type": "markdown",
   "metadata": {},
   "source": [
    "obtendo itens do df e campos e fazendo verificação inicial"
   ]
  },
  {
   "cell_type": "code",
   "execution_count": 34,
   "metadata": {},
   "outputs": [
    {
     "name": "stdout",
     "output_type": "stream",
     "text": [
      "servico_preco          object\n",
      "mercadoria_preco        int64\n",
      "produto_empresa       float64\n",
      "mercadoria_empresa     object\n",
      "item_titulo              bool\n",
      "dtype: object\n"
     ]
    }
   ],
   "source": [
    "campos_df = set(df.columns)\n",
    "campos_esperados = set(campo['nome'] for campo in campos)\n",
    "\n",
    "print(df.dtypes)\n",
    "\n",
    "campos_faltando = campos_df - campos_esperados\n",
    "\n",
    "if(len(campos_df) > len(campos_esperados)):\n",
    "    print(f\"Arquivo com campo em excesso: {', '.join(campos_faltando)}\")\n",
    "\n",
    "if(len(campos_df) < len(campos_esperados)):\n",
    "    print(f\"Campos não esperados no arquivo: {', '.join(campos_faltando)}\")"
   ]
  },
  {
   "cell_type": "markdown",
   "metadata": {},
   "source": [
    "função de comparação"
   ]
  },
  {
   "cell_type": "code",
   "execution_count": 35,
   "metadata": {},
   "outputs": [],
   "source": [
    "def is_valid_datetime(string):\n",
    "    try:\n",
    "        pd.to_datetime(string)\n",
    "        return True\n",
    "    except ValueError:\n",
    "        return False\n",
    "\n",
    "def adicionar_erro(erros, mensagem):\n",
    "    if mensagem not in erros:\n",
    "        erros.append(mensagem)"
   ]
  },
  {
   "cell_type": "markdown",
   "metadata": {},
   "source": [
    "loop principal"
   ]
  },
  {
   "cell_type": "code",
   "execution_count": 36,
   "metadata": {},
   "outputs": [
    {
     "data": {
      "text/plain": [
       "[\"Campo 'servico_preco' possuem valores que não são float.\",\n",
       " \"Campo 'mercadoria_empresa' possuem valores que não são int64.\"]"
      ]
     },
     "execution_count": 36,
     "metadata": {},
     "output_type": "execute_result"
    }
   ],
   "source": [
    "# supondo que para entrar aqui, todos os campos devem ser iguais em nomenclatura e numero\n",
    "def validando():\n",
    "    erros = []\n",
    "    for campo in campos:\n",
    "        nome_campo = campo['nome']\n",
    "        nulo_esperado = campo['nulo']\n",
    "        tipo_esperado = campo['tipo']\n",
    "\n",
    "        if nome_campo not in campos_df:\n",
    "            adicionar_erro(erros, f'Campo {nome_campo} não encontrado no dataframe')\n",
    "            break\n",
    "        \n",
    "        nulos = df[nome_campo].isna().any()\n",
    "\n",
    "        # negando o nulo para brincar com a tabela verdade\n",
    "        if not nulo_esperado and nulos:\n",
    "            adicionar_erro(erros, f\"Campo '{nome_campo}' não deveria possuir valores nulos, mas possui.\")\n",
    "            break\n",
    "\n",
    "        # inicio da verificação de tipagem de cada coluna\n",
    "        for v in df[nome_campo]:\n",
    "            if tipo_esperado == 'datetime64':\n",
    "                if not is_valid_datetime(v):\n",
    "                    adicionar_erro(erros, f\"Campo '{nome_campo}' possuem valores que não são data.\")\n",
    "                    break\n",
    "            if tipo_esperado == 'int64':\n",
    "                if nulo_esperado:\n",
    "                    if not isinstance(v, float):\n",
    "                        adicionar_erro(erros, f\"Campo '{nome_campo}' possuem valores que não são {tipo_esperado}.\")\n",
    "                else:\n",
    "                    if not isinstance(v, int):\n",
    "                        adicionar_erro(erros, f\"Campo '{nome_campo}' possuem valores que não são {tipo_esperado}.\")\n",
    "            if tipo_esperado == 'float':\n",
    "                # print(not isinstance(v, float), v, nome_campo)\n",
    "                if not isinstance(v, float):\n",
    "                    adicionar_erro(erros, f\"Campo '{nome_campo}' possuem valores que não são {tipo_esperado}.\")\n",
    "            if tipo_esperado == 'bool':\n",
    "                # print(not isinstance(v, bool), v, nome_campo)\n",
    "                if not isinstance(v, bool):\n",
    "                    adicionar_erro(erros, f\"Campo '{nome_campo}' possuem valores que não são {tipo_esperado}.\")\n",
    "            if tipo_esperado == 'object':\n",
    "                # print(not isinstance(v, str), v, nome_campo)\n",
    "                if not isinstance(v, str):\n",
    "                    adicionar_erro(erros, f\"Campo '{nome_campo}' possuem valores que não são {tipo_esperado}.\")\n",
    "\n",
    "    if erros:\n",
    "        return erros\n",
    "    \n",
    "    return None\n",
    "\n",
    "validando()"
   ]
  },
  {
   "cell_type": "code",
   "execution_count": 37,
   "metadata": {},
   "outputs": [],
   "source": [
    "def tenta_converter_com_pandas(valor, tipo):\n",
    "    \"\"\"Tenta converter o valor para o tipo especificado usando o pandas\"\"\"\n",
    "    try:\n",
    "        pd.Series([valor]).astype(tipo)\n",
    "        return True\n",
    "    except:\n",
    "        return False"
   ]
  },
  {
   "cell_type": "code",
   "execution_count": 38,
   "metadata": {},
   "outputs": [
    {
     "name": "stdout",
     "output_type": "stream",
     "text": [
      "float\n"
     ]
    },
    {
     "ename": "Exception",
     "evalue": "Erro ao verificar dados: \nErro ao converter 'asd' para o tipo: float. \n Linha 6, coluna 'servico_preco'.",
     "output_type": "error",
     "traceback": [
      "\u001b[1;31m---------------------------------------------------------------------------\u001b[0m",
      "\u001b[1;31mException\u001b[0m                                 Traceback (most recent call last)",
      "\u001b[1;32m~\\AppData\\Local\\Temp\\ipykernel_16708\\1205453409.py\u001b[0m in \u001b[0;36mverificar_dados\u001b[1;34m(df, campos)\u001b[0m\n\u001b[0;32m     18\u001b[0m                     raise Exception(\n\u001b[1;32m---> 19\u001b[1;33m                         \u001b[1;34mf\"\\nErro ao converter '{data}' para o tipo: {tipo_esperado}. \\n Linha {i+1}, coluna '{nome_campo}'.\"\u001b[0m\u001b[1;33m\u001b[0m\u001b[1;33m\u001b[0m\u001b[0m\n\u001b[0m\u001b[0;32m     20\u001b[0m                     )\n",
      "\u001b[1;31mException\u001b[0m: \nErro ao converter 'asd' para o tipo: float. \n Linha 6, coluna 'servico_preco'.",
      "\nDuring handling of the above exception, another exception occurred:\n",
      "\u001b[1;31mException\u001b[0m                                 Traceback (most recent call last)",
      "\u001b[1;32m~\\AppData\\Local\\Temp\\ipykernel_16708\\1205453409.py\u001b[0m in \u001b[0;36m<module>\u001b[1;34m\u001b[0m\n\u001b[0;32m     23\u001b[0m         \u001b[1;32mraise\u001b[0m \u001b[0mException\u001b[0m\u001b[1;33m(\u001b[0m\u001b[1;34m\"Erro ao verificar dados: \"\u001b[0m \u001b[1;33m+\u001b[0m \u001b[0merror\u001b[0m\u001b[1;33m.\u001b[0m\u001b[0margs\u001b[0m\u001b[1;33m[\u001b[0m\u001b[1;36m0\u001b[0m\u001b[1;33m]\u001b[0m\u001b[1;33m)\u001b[0m\u001b[1;33m\u001b[0m\u001b[1;33m\u001b[0m\u001b[0m\n\u001b[0;32m     24\u001b[0m \u001b[1;33m\u001b[0m\u001b[0m\n\u001b[1;32m---> 25\u001b[1;33m \u001b[0mverificar_dados\u001b[0m\u001b[1;33m(\u001b[0m\u001b[0mdf\u001b[0m\u001b[1;33m,\u001b[0m \u001b[0mcampos\u001b[0m\u001b[1;33m)\u001b[0m\u001b[1;33m\u001b[0m\u001b[1;33m\u001b[0m\u001b[0m\n\u001b[0m",
      "\u001b[1;32m~\\AppData\\Local\\Temp\\ipykernel_16708\\1205453409.py\u001b[0m in \u001b[0;36mverificar_dados\u001b[1;34m(df, campos)\u001b[0m\n\u001b[0;32m     21\u001b[0m \u001b[1;33m\u001b[0m\u001b[0m\n\u001b[0;32m     22\u001b[0m     \u001b[1;32mexcept\u001b[0m \u001b[0mException\u001b[0m \u001b[1;32mas\u001b[0m \u001b[0merror\u001b[0m\u001b[1;33m:\u001b[0m\u001b[1;33m\u001b[0m\u001b[1;33m\u001b[0m\u001b[0m\n\u001b[1;32m---> 23\u001b[1;33m         \u001b[1;32mraise\u001b[0m \u001b[0mException\u001b[0m\u001b[1;33m(\u001b[0m\u001b[1;34m\"Erro ao verificar dados: \"\u001b[0m \u001b[1;33m+\u001b[0m \u001b[0merror\u001b[0m\u001b[1;33m.\u001b[0m\u001b[0margs\u001b[0m\u001b[1;33m[\u001b[0m\u001b[1;36m0\u001b[0m\u001b[1;33m]\u001b[0m\u001b[1;33m)\u001b[0m\u001b[1;33m\u001b[0m\u001b[1;33m\u001b[0m\u001b[0m\n\u001b[0m\u001b[0;32m     24\u001b[0m \u001b[1;33m\u001b[0m\u001b[0m\n\u001b[0;32m     25\u001b[0m \u001b[0mverificar_dados\u001b[0m\u001b[1;33m(\u001b[0m\u001b[0mdf\u001b[0m\u001b[1;33m,\u001b[0m \u001b[0mcampos\u001b[0m\u001b[1;33m)\u001b[0m\u001b[1;33m\u001b[0m\u001b[1;33m\u001b[0m\u001b[0m\n",
      "\u001b[1;31mException\u001b[0m: Erro ao verificar dados: \nErro ao converter 'asd' para o tipo: float. \n Linha 6, coluna 'servico_preco'."
     ]
    }
   ],
   "source": [
    "def verificar_dados(df, campos):\n",
    "    \"\"\"Verifica os dados de um dataframe com base em campos específicos. Utiliza um mapeamento de tipos para realizar a verificação.\"\"\"\n",
    "\n",
    "    try:\n",
    "        # Iterando por cada linha e coluna\n",
    "        for j in range(len(df.columns)):\n",
    "            tipo_esperado = campos[j]['tipo']\n",
    "            nome_campo = campos[j]['nome']\n",
    "            print(tipo_esperado)\n",
    "            for i in range(len(df)):\n",
    "                data = df.iloc[i, j]\n",
    "                dtype = type(data)\n",
    "                \n",
    "\n",
    "                if not tenta_converter_com_pandas(\n",
    "                    data, tipo_esperado\n",
    "                ):  # Se não for possível converter\n",
    "                    raise Exception(\n",
    "                        f\"\\nErro ao converter '{data}' para o tipo: {tipo_esperado}. \\n Linha {i+1}, coluna '{nome_campo}'.\"\n",
    "                    )\n",
    "                \n",
    "    except Exception as error:\n",
    "        raise Exception(\"Erro ao verificar dados: \" + error.args[0])\n",
    "\n",
    "verificar_dados(df, campos)\n"
   ]
  }
 ],
 "metadata": {
  "kernelspec": {
   "display_name": "Python 3",
   "language": "python",
   "name": "python3"
  },
  "language_info": {
   "codemirror_mode": {
    "name": "ipython",
    "version": 3
   },
   "file_extension": ".py",
   "mimetype": "text/x-python",
   "name": "python",
   "nbconvert_exporter": "python",
   "pygments_lexer": "ipython3",
   "version": "3.7.9"
  },
  "orig_nbformat": 4
 },
 "nbformat": 4,
 "nbformat_minor": 2
}
